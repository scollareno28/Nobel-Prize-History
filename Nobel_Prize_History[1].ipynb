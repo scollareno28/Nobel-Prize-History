<!doctype html><html lang="en"><head><script>["mousemove","click","keydown","DOMMouseScroll","mousewheel","scroll","touchstart","touchmove"].forEach(function(e){window.addEventListener(e,function(){window.parent.postMessage({type:"activity"},document.domain.replace(/[^.]+.(.*)$/,"https://app.$1"))})})</script>;<meta charset="utf-8"><title>JupyterLab</title><meta name="viewport" content="width=device-width,initial-scale=1">   <script id="jupyter-config-data" type="application/json">{"appName": "JupyterLab", "appNamespace": "lab", "appSettingsDir": "/usr/local/share/jupyter/lab/settings", "appUrl": "/lab", "appVersion": "3.1.4", "baseUrl": "/proxy/absolute/5f3c7b39-8838-411d-bcdf-80a226abd7fb/", "buildAvailable": true, "buildCheck": true, "cacheFiles": false, "collaborative": true, "devMode": false, "disabledExtensions": [], "exposeAppInBrowser": false, "extraLabextensionsPath": [], "federated_extensions": [{"extension": "./extension", "load": "static/remoteEntry.667a4f2400cb3e16288f.js", "mimeExtension": "./mimeExtension", "name": "jupyterlab-plotly"}, {"extension": "./extension", "load": "static/remoteEntry.ca1efc27dc965162ca86.js", "name": "@jupyter-widgets/jupyterlab-manager"}], "fullAppUrl": "/proxy/absolute/5f3c7b39-8838-411d-bcdf-80a226abd7fb/lab", "fullLabextensionsUrl": "/proxy/absolute/5f3c7b39-8838-411d-bcdf-80a226abd7fb/lab/extensions", "fullLicensesUrl": "/proxy/absolute/5f3c7b39-8838-411d-bcdf-80a226abd7fb/lab/api/licenses", "fullListingsUrl": "/proxy/absolute/5f3c7b39-8838-411d-bcdf-80a226abd7fb/lab/api/listings", "fullMathjaxUrl": "/proxy/absolute/5f3c7b39-8838-411d-bcdf-80a226abd7fb/static/notebook/components/MathJax/MathJax.js", "fullSettingsUrl": "/proxy/absolute/5f3c7b39-8838-411d-bcdf-80a226abd7fb/lab/api/settings", "fullStaticUrl": "https://collab-cdn.datacamp.com/jupyterlab/v1/static", "fullThemesUrl": "/proxy/absolute/5f3c7b39-8838-411d-bcdf-80a226abd7fb/lab/api/themes", "fullTranslationsApiUrl": "/proxy/absolute/5f3c7b39-8838-411d-bcdf-80a226abd7fb/lab/api/translations", "fullTreeUrl": "/proxy/absolute/5f3c7b39-8838-411d-bcdf-80a226abd7fb/lab/tree", "fullWorkspacesApiUrl": "/proxy/absolute/5f3c7b39-8838-411d-bcdf-80a226abd7fb/lab/api/workspaces", "ignorePlugins": [], "labextensionsPath": ["/home/repl/.local/share/jupyter/labextensions", "/usr/local/share/jupyter/labextensions", "/usr/share/jupyter/labextensions"], "labextensionsUrl": "/lab/extensions", "licensesUrl": "/lab/api/licenses", "listingsUrl": "/lab/api/listings", "mathjaxConfig": "TeX-AMS-MML_HTMLorMML-full,Safe", "mode": "single-document", "notebookVersion": "[1, 10, 2]", "preferredDir": "/home/repl/workspace", "preferredPath": "", "quitButton": true, "schemasDir": "/usr/local/share/jupyter/lab/schemas", "serverRoot": "~/workspace", "settingsUrl": "/lab/api/settings", "staticDir": "/usr/local/share/jupyter/lab/static", "store_id": 5, "templatesDir": "/usr/local/share/jupyter/lab/static", "terminalsAvailable": true, "themesDir": "/usr/local/share/jupyter/lab/themes", "themesUrl": "/lab/api/themes", "token": "", "translationsApiUrl": "/lab/api/translations", "treePath": "Nobel_Prize_History.ipynb", "treeUrl": "/lab/tree", "userSettingsDir": "/home/repl/.jupyter/lab/user-settings", "workspace": "default", "workspacesApiUrl": "/lab/api/workspaces", "workspacesDir": "/home/repl/.jupyter/lab/workspaces", "wsUrl": ""}</script><link rel="icon" type="image/x-icon" href="/proxy/absolute/5f3c7b39-8838-411d-bcdf-80a226abd7fb/static/favicons/favicon.ico" class="idle favicon"><link rel="" type="image/x-icon" href="/proxy/absolute/5f3c7b39-8838-411d-bcdf-80a226abd7fb/static/favicons/favicon-busy-1.ico" class="busy favicon"><script defer="defer" src="https://collab-cdn.datacamp.com/jupyterlab/v1/static/main.4d7f0bdf5084c4879f0a.js?v=4d7f0bdf5084c4879f0a"></script></head><body><script>/* Remove token from URL. */
  (function () {
    var location = window.location;
    var search = location.search;

    // If there is no query string, bail.
    if (search.length <= 1) {
      return;
    }

    // Rebuild the query string without the `token`.
    var query = '?' + search.slice(1).split('&')
      .filter(function (param) { return param.split('=')[0] !== 'token'; })
      .join('&');

    // Rebuild the URL with the new query string.
    var url = location.origin + location.pathname +
      (query !== '?' ? query : '') + location.hash;

    if (url === location.href) {
      return;
    }

    window.history.replaceState({ }, '', url);
  })();</script></body></html>